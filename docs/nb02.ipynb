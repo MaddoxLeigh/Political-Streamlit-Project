{
 "cells": [
  {
   "cell_type": "code",
   "execution_count": 1,
   "metadata": {},
   "outputs": [],
   "source": [
    "import requests"
   ]
  },
  {
   "cell_type": "code",
   "execution_count": 5,
   "metadata": {},
   "outputs": [
    {
     "data": {
      "text/plain": [
       "[['NAME', 'POP', 'HISP', 'state'],\n",
       " ['Mississippi', '100110', '2', '28'],\n",
       " ['Missouri', '268708', '2', '29'],\n",
       " ['Montana', '43289', '2', '30'],\n",
       " ['Massachusetts', '854907', '2', '25'],\n",
       " ['Michigan', '528205', '2', '26'],\n",
       " ['Minnesota', '315130', '2', '27'],\n",
       " ['Nebraska', '219645', '2', '31'],\n",
       " ['Nevada', '900600', '2', '32'],\n",
       " ['New Hampshire', '54589', '2', '33'],\n",
       " ['New Jersey', '1856844', '2', '34'],\n",
       " ['New Mexico', '1032942', '2', '35'],\n",
       " ['New York', '3751058', '2', '36'],\n",
       " ['North Carolina', '1025830', '2', '37'],\n",
       " ['North Dakota', '31532', '2', '38'],\n",
       " ['Ohio', '470462', '2', '39'],\n",
       " ['Oklahoma', '438110', '2', '40'],\n",
       " ['Oregon', '566847', '2', '41'],\n",
       " ['Pennsylvania', '1000150', '2', '42'],\n",
       " ['Rhode Island', '172644', '2', '44'],\n",
       " ['South Carolina', '307118', '2', '45'],\n",
       " ['South Dakota', '37351', '2', '46'],\n",
       " ['Tennessee', '391382', '2', '47'],\n",
       " ['Texas', '11525578', '2', '48'],\n",
       " ['Vermont', '12719', '2', '50'],\n",
       " ['Utah', '462051', '2', '49'],\n",
       " ['Virginia', '834422', '2', '51'],\n",
       " ['Washington', '991721', '2', '53'],\n",
       " ['West Virginia', '31162', '2', '54'],\n",
       " ['Wisconsin', '413208', '2', '55'],\n",
       " ['Wyoming', '58609', '2', '56'],\n",
       " ['Alabama', '223278', '2', '01'],\n",
       " ['Alaska', '53212', '2', '02'],\n",
       " ['Arizona', '2310590', '2', '04'],\n",
       " ['Arkansas', '236631', '2', '05'],\n",
       " ['California', '15574880', '2', '06'],\n",
       " ['Colorado', '1256904', '2', '08'],\n",
       " ['Delaware', '93391', '2', '10'],\n",
       " ['District of Columbia', '79477', '2', '11'],\n",
       " ['Florida', '5663860', '2', '12'],\n",
       " ['Connecticut', '600955', '2', '09'],\n",
       " ['Georgia', '1048724', '2', '13'],\n",
       " ['Idaho', '229490', '2', '16'],\n",
       " ['Hawaii', '150864', '2', '15'],\n",
       " ['Illinois', '2219882', '2', '17'],\n",
       " ['Indiana', '489353', '2', '18'],\n",
       " ['Iowa', '198550', '2', '19'],\n",
       " ['Kansas', '356073', '2', '20'],\n",
       " ['Kentucky', '174706', '2', '21'],\n",
       " ['Louisiana', '246972', '2', '22'],\n",
       " ['Maine', '23700', '2', '23'],\n",
       " ['Maryland', '643822', '2', '24']]"
      ]
     },
     "execution_count": 5,
     "metadata": {},
     "output_type": "execute_result"
    }
   ],
   "source": [
    "requests.get(\"https://api.census.gov/data/2019/pep/charagegroups?get=NAME,POP&HISP=2&for=state:*\").json()\n"
   ]
  },
  {
   "cell_type": "code",
   "execution_count": null,
   "metadata": {},
   "outputs": [],
   "source": []
  }
 ],
 "metadata": {
  "kernelspec": {
   "display_name": "base",
   "language": "python",
   "name": "python3"
  },
  "language_info": {
   "codemirror_mode": {
    "name": "ipython",
    "version": 3
   },
   "file_extension": ".py",
   "mimetype": "text/x-python",
   "name": "python",
   "nbconvert_exporter": "python",
   "pygments_lexer": "ipython3",
   "version": "3.11.4"
  }
 },
 "nbformat": 4,
 "nbformat_minor": 2
}
